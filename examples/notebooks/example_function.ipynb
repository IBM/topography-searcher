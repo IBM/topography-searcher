{
 "cells": [
  {
   "cell_type": "markdown",
   "id": "cdf7b3df-f835-4cb8-941b-7410789832b9",
   "metadata": {},
   "source": [
    "# Landscape generation\n",
    "\n",
    "In this notebook we show how to use TopSearch to generate the landscape of the two-dimensional Schwefel function. We first locate the local minima of this surface using the basin-hopping algorithm, and subsequently locate the transition states between them. This set of minima and transition states can be represented as a weighted graph, and we show how this graph encodes the topography of the surface."
   ]
  },
  {
   "cell_type": "markdown",
   "id": "efb93c6c-39f3-4891-bc39-a33af629d671",
   "metadata": {},
   "source": [
    "## Imports\n",
    "\n",
    "First we import topsearch, which contains all the functionality we need for this example"
   ]
  },
  {
   "cell_type": "code",
   "execution_count": null,
   "id": "a5493a61-439c-4441-88c7-cce5d5a6ed41",
   "metadata": {},
   "outputs": [],
   "source": [
    "import topsearch"
   ]
  },
  {
   "cell_type": "markdown",
   "id": "e44eef9e-45eb-4a02-b31b-b6c0be484d5d",
   "metadata": {},
   "source": [
    "## Initialise classes\n",
    "\n",
    "Landscape generation requires several classes to be instantiated. We list each of them in turn here, and describe their functionality.\n",
    "First, we generate the potential class that calculates the function value and its derivatives when given a set of coordinates. In this case this is the Schwefel function specified in two dimensions. We can place bounds on the allowed feature space that is explored by these methods, here they are given the standard range for the Schwefel function."
   ]
  },
  {
   "cell_type": "code",
   "execution_count": null,
   "id": "c65e395c-1157-4556-a730-f365ecaa581e",
   "metadata": {},
   "outputs": [],
   "source": [
    "schwefel = topsearch.potential.Schwefel(ndim=2, bounds=[(-500.0, 500.0), (-500.0, 500.0)])"
   ]
  },
  {
   "cell_type": "markdown",
   "id": "b58b7952-87f3-4732-9ef3-6ed356021f86",
   "metadata": {},
   "source": [
    "Next we initialise the comparison class, which is responsible for determining the distance between points in feature space and determining if they are the same. We may generate repeated minima and transition states and the functions of this class will allow us to filter out repeats and only include unique stationary points. We are required to specify a distance_criterion and energy_criterion within which two minima and transition states are considered the same. The proportional_distance scales the distance_criterion to reflect the total range, in this case it is active resulting in the criterion taking any points within 5% of the feature space and within the energy_criterion as the same."
   ]
  },
  {
   "cell_type": "code",
   "execution_count": null,
   "id": "ff976478-4838-46cb-9224-819070840de6",
   "metadata": {},
   "outputs": [],
   "source": [
    "comparer = topsearch.similarity.NonAtomicSimilarity(potential=schwefel,\n",
    "                                                    distance_criterion=0.05,\n",
    "                                                    energy_criterion=1e-2,\n",
    "                                                    proportional_distance=True)"
   ]
  },
  {
   "cell_type": "markdown",
   "id": "7a7ba276-b4d9-4d0f-beff-0345a17b76af",
   "metadata": {},
   "source": [
    "We provide these two instances to the KineticTransitionNetwork class. This contains the networkx object in which all the minima and transition states are stored as a weighted graph. This class controls all access to the network and performs operations to extract information and analyse it."
   ]
  },
  {
   "cell_type": "code",
   "execution_count": null,
   "id": "94780e0f-48e3-4efa-a848-99e457d8f0d7",
   "metadata": {},
   "outputs": [],
   "source": [
    "ktn = topsearch.kinetic_transition_network.KineticTransitionNetwork(potential=schwefel,\n",
    "                                                                    similarity=comparer)"
   ]
  },
  {
   "cell_type": "markdown",
   "id": "655eaf61-4758-41c8-bcd1-4573bc63a6d3",
   "metadata": {},
   "source": [
    "Additionally, we need a local minimiser as all these methods rely on locating local minima. Our local minimiser class provides a wrapper to the scipy box-constrained LBFGS implementation that is adapted to the different optimisation tasks we perform. We need to provide it the function that it minimises, along with the maximum number of steps it can take, the LBFGS history and gradient at which it has successfully converged."
   ]
  },
  {
   "cell_type": "code",
   "execution_count": null,
   "id": "95d327cd-45c4-455a-b613-aff57157db2b",
   "metadata": {},
   "outputs": [],
   "source": [
    "minimiser = topsearch.minimisation.LBFGS(potential=schwefel,\n",
    "                                         conv_crit=1e-6,\n",
    "                                         history_size=5,\n",
    "                                         n_steps=100)"
   ]
  },
  {
   "cell_type": "markdown",
   "id": "efd7730a-a1f6-4c21-a3c1-21e99b9424d7",
   "metadata": {},
   "source": [
    "Locating transition states requires a combination of single-ended and double-ended searches. Double-ended searches take two minima as input and attempt to find the lowest-valued path between them. Single-ended searches start from a single point and follow the eigenvector corresponding to the most negative eigenvalue until they converge to a transition state. These two searches are used in tandem, with an initial double-ended search, following by a single-ended search applied to each local maximum on the path. Here, we use the nudged elastic band as the double-ended search method. NudgedElasticBand contains the methods to produce an initial path and optimise it to minimise its overall value. We specify it using three parameters: force_constant - determines the tightness of the elastic band, this is updated within the computation, image density - this determines how many points the path is composed of (per unit distance), more points means better path (usually) as higher computational cost, max images - allows us to put a cut on the maximum number of images to limit the computational cost."
   ]
  },
  {
   "cell_type": "code",
   "execution_count": null,
   "id": "c39cbed3-c07a-4d6d-b7ad-dfb0a4e1be7d",
   "metadata": {},
   "outputs": [],
   "source": [
    "nudged_elastic_band = \\\n",
    "    topsearch.double_ended_search.NudgedElasticBand(potential=schwefel,\n",
    "                                                    minimiser=minimiser,\n",
    "                                                    force_constant=50.0,\n",
    "                                                    image_density=5.0,\n",
    "                                                    max_images=50)"
   ]
  },
  {
   "cell_type": "markdown",
   "id": "c76ed7cd-2986-41cc-8293-f48f60f35c0d",
   "metadata": {},
   "source": [
    "The single-ended search method is hybrid eigenvector-following. This class provides methods to take in a single point and provide the methods to converge it to the nearest transition state. We provide it with a convergence criterion, the gradient must be under this value to be considered converged to a stationary point. We also provide the allowed number of mode-following steps before it is considered a failed search for a transition state. Each transition state is connected to two minima by following the steepest-descent paths along the unique downhill direction and we specify the distance we move in the downhill direction before beginning a local minimisation using pushoff. Finally, we have some step sizes used in the mode-following to prevent the steps being too large."
   ]
  },
  {
   "cell_type": "code",
   "execution_count": null,
   "id": "9869fb6a-28f2-4324-8b9b-b1c017f3f632",
   "metadata": {},
   "outputs": [],
   "source": [
    "hybrid_eigenvector_following = \\\n",
    "    topsearch.single_ended_search.HybridEigenvectorFollowing(potential=schwefel,\n",
    "                                                             minimiser=minimiser,\n",
    "                                                             conv_crit=1e-4,\n",
    "                                                             ts_steps=100,\n",
    "                                                             pushoff=1e-1,\n",
    "                                                             max_uphill_step_size=0.5,\n",
    "                                                             positive_eigenvalue_step=1.0)"
   ]
  },
  {
   "cell_type": "markdown",
   "id": "410c0969-2938-4ce6-8b87-b9c47a5e1f40",
   "metadata": {},
   "source": [
    "For global optimisation algorithms we need to be able to propose new structures from the existing ones. The efficiency of global optimisation relies on the proposal of good candidate positions. For molecular systems this is an involved problem with a lot of research invested into it. For the non-atomic system here the step-taking is much simpler, it can just be random perturbations. This class manages the perturbations to propose new states, it is given the maximum step size, max_displacement, and we specify that this distance should be measured as a proportion of the bounds range with proportional distance."
   ]
  },
  {
   "cell_type": "code",
   "execution_count": null,
   "id": "13b5e17a-f822-4a33-b442-d8e67389130d",
   "metadata": {},
   "outputs": [],
   "source": [
    "step_taking = topsearch.perturbations.NonAtomicPerturbation(potential=schwefel,\n",
    "                                                            max_displacement=1.0,\n",
    "                                                            proportional_distance=True)"
   ]
  },
  {
   "cell_type": "markdown",
   "id": "055ba991-65ed-4b28-b4c8-b75770f6ec71",
   "metadata": {},
   "source": [
    "Initialise the global optimisation class. The global optimisation algorithm is basin-hopping, which is provided with the step-taking class previously created. Basin-hopping steps around the surface performing local minimisations and subsequently accepting or rejecting the new local minima based on a Metropolis-like criterion. The BasinHopping class performs basin-hopping runs consisting of n_steps random perturbations and local minimisations, with a temperature specified to control the acceptance of new minima."
   ]
  },
  {
   "cell_type": "code",
   "execution_count": null,
   "id": "c761bbc0-adcf-414a-b931-ccc02469730b",
   "metadata": {},
   "outputs": [],
   "source": [
    "optimiser = topsearch.global_optimisation.BasinHopping(ktn=ktn,\n",
    "                                                       minimiser=minimiser,\n",
    "                                                       n_steps=750,\n",
    "                                                       temperature=1.0,\n",
    "                                                       step_taking=step_taking)"
   ]
  },
  {
   "cell_type": "markdown",
   "id": "536d3b42-d929-492d-b6d8-56faf7ba605b",
   "metadata": {},
   "source": [
    "Finally, we feed many of these objects into a NetworkSampling object that controls all the landscape generation. This object allows for simple calls to be made that perform the combination of algorithms for landscape generation. We pass it the global_optimiser and the transition state location methods. Transition state location simply requires two minima, and therefore, the sampling of the landscape is embarrassingly parallel. We have the option to use multiple processes to accelerate the landscape calculation. Here we decide to run on one CPU for now."
   ]
  },
  {
   "cell_type": "code",
   "execution_count": null,
   "id": "0ae62e04-d97d-43e2-93b6-e6f51d9f0287",
   "metadata": {},
   "outputs": [],
   "source": [
    "explorer = topsearch.exploration.NetworkSampling(ktn=ktn,\n",
    "                                                 minimiser=minimiser,\n",
    "                                                 global_optimiser=optimiser,\n",
    "                                                 single_ended_search=hybrid_eigenvector_following,\n",
    "                                                 double_ended_search=nudged_elastic_band,\n",
    "                                                 multiprocessing=False,\n",
    "                                                 n_processes=1)"
   ]
  },
  {
   "cell_type": "markdown",
   "id": "50d28603-fdf1-4aee-a369-fa0e3e8be398",
   "metadata": {},
   "source": [
    "## Perform the computations\n",
    "\n",
    "We will perform several tasks in turn for the Schwefel function, each illustrating tasks which may be performed separately\n",
    "1. Global optimisation\n",
    "2. Find transition states\n",
    "3. Restart from partial landscape\n",
    "4. Restart with multiprocessing\n",
    "\n",
    "## 1. Global optimisation\n",
    "\n",
    "First, we will locate minima on the two-dimensional Schwefel function surface. We will use the basin-hopping algorithm, as specified in the optimiser class. Basin-hopping is a very efficient global optimisation algorithm, and we store all additional minima that are located during the search too. To perform global optimisation now requires a single line of code"
   ]
  },
  {
   "cell_type": "code",
   "execution_count": null,
   "id": "05b01231-4c3e-45b1-93f6-d4261e4b59a3",
   "metadata": {},
   "outputs": [],
   "source": [
    "explorer.global_optimisation()"
   ]
  },
  {
   "cell_type": "markdown",
   "id": "cefb7bf4-f95e-43b2-8f05-2628346a1633",
   "metadata": {},
   "source": [
    "We can analyse and visualise these results to ensure that the methodology is correctly exploring the space and locating minima. First, because we selected a two-dimensional surface we can directly visualise the surface to validate its performance. We do this through a call to the plotter class."
   ]
  },
  {
   "cell_type": "code",
   "execution_count": null,
   "id": "a1780df7-3143-4475-b7d9-efa9a82a9e2b",
   "metadata": {},
   "outputs": [],
   "source": [
    "plotter.plot_stationary_points(ktn)"
   ]
  },
  {
   "cell_type": "markdown",
   "id": "769e5b00-1f58-4b34-b81e-11b408f4817c",
   "metadata": {},
   "source": [
    "## 2. Find transition states\n",
    "\n",
    "Having successfully located the local minima we will aim to locate the transition states between them. These transition states are the maxima on the minimum energy paths between minima, and in physical landscapes these are the lowest crossing points between two valleys. Hopefully, the concept will be straightforward to see when we plot them shortly.\n",
    "\n",
    "The transition states allow us to understand the intermediate structure of the surface between minima through these key points. We can then encode the topography through these key points and represent the structure of the surface as a weighted graph. Generation of the transition states is performed by using the combination of single and double-ended transition state searches between minima.\n",
    "\n",
    "The algorithm we use 'ClosestEnumeration' specifies that all minima are connected to their nearest neighbour with transition state searches. Again, the generation of the complete landscape description can be performed in a single function call."
   ]
  },
  {
   "cell_type": "code",
   "execution_count": null,
   "id": "19fbcd80-6695-4c6e-9ab8-bbad891ac9ab",
   "metadata": {},
   "outputs": [],
   "source": [
    "explorer.generate_landscape('ClosestEnumeration', 1)"
   ]
  },
  {
   "cell_type": "markdown",
   "id": "c9b15e8c-2a32-4a28-849f-b597ceeb542c",
   "metadata": {},
   "source": [
    "We have only taken a small number of connections here, and we visualise the parts of the landscape we have captured."
   ]
  },
  {
   "cell_type": "code",
   "execution_count": null,
   "id": "e04d2e14-35da-419f-a710-4ce53474c658",
   "metadata": {},
   "outputs": [],
   "source": [
    "plotter.plot_stationary_points(ktn)"
   ]
  },
  {
   "cell_type": "markdown",
   "id": "65be11d4-8dba-44f6-b8b3-5bee88325b9d",
   "metadata": {},
   "source": [
    "It is easy to see that we have not found all transition states between the minima. Therefore, we currently have an incomplete description of the surface topography. Additional transition state searches are needed to explore more of the surface. Assuming that at this point the calculations want to be paused we will dump the current network of minima and transition states to file for storage. These files are min.data, min.coords, ts.data, ts.coords and pairlist.txt."
   ]
  },
  {
   "cell_type": "code",
   "execution_count": null,
   "id": "6789d55b-deed-4fcc-aa12-56a2523ed860",
   "metadata": {},
   "outputs": [],
   "source": [
    "ktn.dump_network()"
   ]
  },
  {
   "cell_type": "markdown",
   "id": "3ff1205e-1742-438c-a45c-f4edf326f5d6",
   "metadata": {},
   "source": [
    "## 3. Restarting calculations\n",
    "\n",
    "Here, we will show how it is possible to restart calculations from an existing landscape. We previously did a small amount of transition state searching, but it was not enough to explore the full surface. Therefore, we would like to continue sampling from this database. Reading in an existing database is performed using"
   ]
  },
  {
   "cell_type": "code",
   "execution_count": null,
   "id": "1a7a1a14-4572-49a2-a69f-b09a82a8c005",
   "metadata": {},
   "outputs": [],
   "source": [
    "ktn.read_network()"
   ]
  },
  {
   "cell_type": "markdown",
   "id": "c9549ec3-cd20-4b8e-986c-fbb645470a8c",
   "metadata": {},
   "source": [
    "which will take in all the network information written to file and reconstruct the graph for future calculations. We can then continue transition state searches to further explore the surface from where we left off. The same method can be called again to continue from where we left off, but this time we try and connect each minimum with its three nearest neighbours."
   ]
  },
  {
   "cell_type": "code",
   "execution_count": null,
   "id": "9405f530-d184-44cd-9c3e-504d03d9f421",
   "metadata": {},
   "outputs": [],
   "source": [
    "serial_start_time = timer()\n",
    "explorer.generate_landscape('ClosestEnumeration', 3)\n",
    "serial_end_time = timer()"
   ]
  },
  {
   "cell_type": "markdown",
   "id": "521e4fa0-8f82-40fc-8cb3-def1eade630a",
   "metadata": {},
   "source": [
    "Now we have further explored the surface we will again visualise its progress. We visualise the surface directly with the graph overlaid. This visualisation is only possible due to the low-dimensionality of the problem. Therefore, we show two different visualisations that can capture the topography for surfaces of any dimensionality: disconnectivity graphs and graphs. First, we show the surface directly"
   ]
  },
  {
   "cell_type": "code",
   "execution_count": null,
   "id": "3d8faf47-42dd-4bd7-b7c5-7376a2a7e97e",
   "metadata": {},
   "outputs": [],
   "source": [
    "plotter.plot_stationary_points(ktn)"
   ]
  },
  {
   "cell_type": "markdown",
   "id": "bc5b35fd-5701-4993-b7a6-07d899f864d5",
   "metadata": {},
   "source": [
    "We now observe that far more of the surface is covered by the network. Therefore, the network provides a much better description of the surface topography. Highlighting almost all the of the key points in moving between minima. However, such a visualisation is only possible two dimensions and we illustrate two visualisations that are possible in arbitrary dimensions."
   ]
  },
  {
   "cell_type": "code",
   "execution_count": null,
   "id": "7275097a-4481-4abf-9865-1d4d62ef7465",
   "metadata": {},
   "outputs": [],
   "source": [
    "plotter.plot_disconnectivity_graph(ktn)\n",
    "plotter.plot_network(ktn)"
   ]
  },
  {
   "cell_type": "markdown",
   "id": "7465f7d3-6bb3-4ca3-916d-5268f189957f",
   "metadata": {},
   "source": [
    "The network plot illustrates the graph in a representation that respects the barriers between minima to enforce edges to be shorter if the transition state barrier is lower. Therefore, the graph gives a visual illustration of surface topography in two dimensions, highlighting groups of nodes that are close together as those within a smooth part of the surface. The disconnectivity graph is another two-dimensional representation of surface topography that preserves the true barriers between minima."
   ]
  },
  {
   "cell_type": "markdown",
   "id": "2ffc64af-02db-41a8-9ea2-c2cf8f460e22",
   "metadata": {},
   "source": [
    "## 4. Restart with multiprocessing\n",
    "\n",
    "The transition state searches are embarassingly parallel, as each only needs to know the initial two minima that it is connecting. Therefore, we can use multiprocessing to further accelerate the exploration of the surface by running each separate transition state search on a different process. After an initial generation of the set of minima that should be connected we spread the calculations across n_processes. Usually we would specify this option in NetworkSampling, but here we simply update these values"
   ]
  },
  {
   "cell_type": "code",
   "execution_count": null,
   "id": "5c849072-9038-4096-99e6-13a160abbab9",
   "metadata": {},
   "outputs": [],
   "source": [
    "explorer.multiprocessing = True\n",
    "explorer.n_processes = 4"
   ]
  },
  {
   "cell_type": "markdown",
   "id": "429dff2e-92d6-4ff2-8ef8-645e7baf1d04",
   "metadata": {},
   "source": [
    "Now any landscape exploration will be performed in parallel over n_processes different processes. We read in the network in the same state as for the previous serial computation and perform the same set of calculations, this time with multiple processes."
   ]
  },
  {
   "cell_type": "code",
   "execution_count": null,
   "id": "6f59f294-7385-4159-8f41-26777a5570ec",
   "metadata": {},
   "outputs": [],
   "source": [
    "ktn.read_network()\n",
    "parallel_start_time = timer()\n",
    "explorer.generate_landscape('ClosestEnumeration',3)\n",
    "parallel_end_time = timer()\n",
    "print(\"Serial computation time = \", serial_end_time - serial_start_time)\n",
    "print(\"Parallel computation time = \", parallel_end_time - parallel_start_time)"
   ]
  },
  {
   "cell_type": "markdown",
   "id": "0f75d6c6-5868-42c9-b19f-7ab4a13fd63e",
   "metadata": {},
   "source": [
    "Printing the timings for both of these methods we can show that the multiprocessing provides a large reduction in computational time when multiple cores are available."
   ]
  }
 ],
 "metadata": {
  "kernelspec": {
   "display_name": "Python 3 (ipykernel)",
   "language": "python",
   "name": "python3"
  },
  "language_info": {
   "codemirror_mode": {
    "name": "ipython",
    "version": 3
   },
   "file_extension": ".py",
   "mimetype": "text/x-python",
   "name": "python",
   "nbconvert_exporter": "python",
   "pygments_lexer": "ipython3",
   "version": "3.12.0"
  }
 },
 "nbformat": 4,
 "nbformat_minor": 5
}
