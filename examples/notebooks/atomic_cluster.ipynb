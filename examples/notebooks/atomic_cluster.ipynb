{
 "cells": [
  {
   "cell_type": "markdown",
   "id": "cdf7b3df-f835-4cb8-941b-7410789832b9",
   "metadata": {},
   "source": [
    "# Potential energy landscape of an atomic cluster\n",
    "\n",
    "In this notebook we show how to use TopSearch to map the potential energy landscape of a small atomic cluster. Exploring potential energy surfaces is a key task in chemical physics, because all physical properties of a system are encoded in its potential energy surface. One method for extracting these properties is to use the energy landscape framework (https://doi.org/10.1146/annurev-physchem-050317-021219). In this framework we encode the potential energy surface through its stationary points (points at which the gradient goes to zero). The stationary points are separated into local minima (any displacement increases the energy) and transition states (these points are maximal in one direction and minimal in all the remaining). Transition states can be diagnosed by a single negative eigenvalue of the second derivative matrix. The set of minima and transition states are stored in a kinetic transition network (https://doi.org/10.1016/j.sbi.2008.01.008). From the minima we can compute the thermodynamics of a physical system, and we can also compute the kinetics given the transition states too. Therefore, by locating all the stationary points we can determine the relevant properties of a physical system. In this example, we compute the kinetic transition network for a small atomic cluster. We show the kinetic transition network for a very simple surface below.\n",
    "\n",
    "![alt text](StationaryPointsExample.png \"Title\")\n",
    "\n",
    "Local minima and transition states are shown by green and red circles, respectively. The downhill direction at each transition state is shown with pink arrows, and the two minima connected to each transition state are joined with solid black lines."
   ]
  },
  {
   "cell_type": "markdown",
   "id": "e44eef9e-45eb-4a02-b31b-b6c0be484d5d",
   "metadata": {},
   "source": [
    "## Initialise classes\n",
    "\n",
    "Before we run any calculations we require several classes to be instantiated. We list each of them in turn here, and describe their functionality. First, we specify the coordinates class, which stores and operates on the cluster configuration. We specify the atomic species of each atom and an initial position, along with the length at which two atoms are not considered bonded."
   ]
  },
  {
   "cell_type": "code",
   "execution_count": 91,
   "id": "c65e395c-1157-4556-a730-f365ecaa581e",
   "metadata": {},
   "outputs": [],
   "source": [
    "import numpy as np\n",
    "from topsearch.data.coordinates import AtomicCoordinates\n",
    "atom_labels = ['C','C','C','C','C','C','C']\n",
    "position = np.array([[0.0, 0.0, 0.0],\n",
    "                     [3.0, 0.0, 0.0],\n",
    "                     [3.0, 3.0, 0.0],\n",
    "                     [0.0, 3.0, 0.0],\n",
    "                     [0.0, 0.0, 3.0],\n",
    "                     [0.0, 3.0, 3.0],\n",
    "                     [3.0, 3.0, 3.0]])\n",
    "coords = AtomicCoordinates(atom_labels=atom_labels, # specify the atomic labels\n",
    "                           position=position.flatten(), # provide the initial position of all atoms\n",
    "                           bond_cutoff=1.5) # specify the distance over which two atoms are not considered bonding"
   ]
  },
  {
   "cell_type": "markdown",
   "id": "99c45acd",
   "metadata": {},
   "source": [
    "We require a potential class that specifies the potential energy function for the atomic system. The class provides the functionality to compute the potential energy and its first and second derivatives when given a set of coordinates. In this example we use the Lennard Jones potential, which is a computationally-efficient interatomic potential used to explore idealised atomic clusters."
   ]
  },
  {
   "cell_type": "code",
   "execution_count": 92,
   "id": "9ddf9dd0",
   "metadata": {},
   "outputs": [],
   "source": [
    "from topsearch.potentials.atomic import LennardJones\n",
    "lj = LennardJones()"
   ]
  },
  {
   "cell_type": "markdown",
   "id": "b58b7952-87f3-4732-9ef3-6ed356021f86",
   "metadata": {},
   "source": [
    "Next we initialise the comparison class, which is responsible for aligning atomic configurations and determining the distance between them. We would like to retain only one copy of each minimum and transition state and this class achieves that. Comparing atomic structures requires consideration of translation and rotation of the whole cluster, along with permutation of the atoms. Overall translation and rotation of an atomic configuration do not change its energy or structure and, therefore, structures related by overall rotation or translation should be recognised as the same. Furthermore, permutation of indistinguishable atoms also results in no change in energy and permutation should also be accounted for when comparing structures. The MolecularSimilarity class takes care of these technical considerations and accounts for translational, rotational and permutational symmetry. Therefore, we can distinguish repeated structures and filter them out, leaving only unique stationary points."
   ]
  },
  {
   "cell_type": "code",
   "execution_count": 93,
   "id": "ff976478-4838-46cb-9224-819070840de6",
   "metadata": {},
   "outputs": [],
   "source": [
    "from topsearch.similarity.molecular_similarity import MolecularSimilarity\n",
    "comparer = MolecularSimilarity(distance_criterion=0.2, # distance between which two configurations are considered the same\n",
    "                               energy_criterion=1e-1, # energy beneath which two configurations are considered the same\n",
    "                               weighted=False, # weight each atom proportionally by its atomic mass \n",
    "                               allow_inversion=True) # group together configurations related by the inversion operation"
   ]
  },
  {
   "cell_type": "markdown",
   "id": "7a7ba276-b4d9-4d0f-beff-0345a17b76af",
   "metadata": {},
   "source": [
    "We initialise the KineticTransitionNetwork object. This object contains the networkx graph in which all the minima and transition states are stored. Minima are nodes in this graph and transition states are encoded as the edges between nodes. This class controls all access to the network and performs operations to extract information and analyse it."
   ]
  },
  {
   "cell_type": "code",
   "execution_count": 94,
   "id": "94780e0f-48e3-4efa-a848-99e457d8f0d7",
   "metadata": {},
   "outputs": [],
   "source": [
    "from topsearch.data.kinetic_transition_network import KineticTransitionNetwork\n",
    "ktn = KineticTransitionNetwork()"
   ]
  },
  {
   "cell_type": "markdown",
   "id": "efd7730a-a1f6-4c21-a3c1-21e99b9424d7",
   "metadata": {},
   "source": [
    "Locating transition states requires a combination of single-ended and double-ended searches.\n",
    "\n",
    "- Double-ended searches: take two minima as input and attempt to find the lowest-valued path between them. \n",
    "- Single-ended searches: start from a single point and follow the eigenvector corresponding to the most negative eigenvalue until they converge to a transition state.\n",
    "\n",
    "These two searches are used in tandem, with an initial double-ended search, following by a single-ended search applied to each local maximum on the path.\n",
    "\n",
    "The double-ended search algorithm we use here is the nudged elastic band (https://doi.org/10.1142/9789812839664_0016) The algorithm places a chain of intermediate configurations evenly spaced between the specified endpoint minima. These configurations are linked by an artifical harmonic potential to prevent them separating and then these chain of structures are minimised on the potential energy surface. These chain of states function a lot like an elastic band, deforming so as to minimise the energy of the pathway between two minima, resulting in an approximation to the lowest energy pathway."
   ]
  },
  {
   "cell_type": "code",
   "execution_count": 95,
   "id": "c39cbed3-c07a-4d6d-b7ad-dfb0a4e1be7d",
   "metadata": {},
   "outputs": [],
   "source": [
    "from topsearch.transition_states.nudged_elastic_band import NudgedElasticBand\n",
    "neb = NudgedElasticBand(potential=lj, # the function determining the potential energy\n",
    "                        force_constant=50.0, # force of the harmonic potential holding configurations together\n",
    "                        image_density=10.0, # the number of intermediate configurations (per unit distance)\n",
    "                        max_images=20, # the upper limit to the number of intermediate configurations\n",
    "                        neb_conv_crit=1e-2) # the gradient at which the elastic band is converged"
   ]
  },
  {
   "cell_type": "markdown",
   "id": "c76ed7cd-2986-41cc-8293-f48f60f35c0d",
   "metadata": {},
   "source": [
    "The single-ended search method we use is hybrid eigenvector-following (https://doi.org/10.1103/PhysRevB.59.3969). This class provides methods to take a single point and converge it to the nearest transition state. It works by iteratively finding the steepest uphill direction, following that direction, and then minimising in the orthogonal directions. The process is repeated until the gradient reduces to a sufficiently small value to be converged to a stationary point. Such a stationary point is a maximum in one direction and a minimum in all others. The transition state is connected to two minima, which we find by minimising after pushing off along the direction in which it is maximal."
   ]
  },
  {
   "cell_type": "code",
   "execution_count": 96,
   "id": "9869fb6a-28f2-4324-8b9b-b1c017f3f632",
   "metadata": {},
   "outputs": [],
   "source": [
    "from topsearch.transition_states.hybrid_eigenvector_following import HybridEigenvectorFollowing\n",
    "hef = HybridEigenvectorFollowing(potential=lj, # function providing the potential energy\n",
    "                                 ts_conv_crit=1e-4, # gradient below which the transition state is converged\n",
    "                                 ts_steps=150, # maximum number of steps before giving up\n",
    "                                 pushoff=1e-1, # the size of the displacement before starting local minimisation\n",
    "                                 max_uphill_step_size=0.3, # the biggest allowed step along a direction\n",
    "                                 positive_eigenvalue_step=0.3) # the size of step when the direction isn't uphill"
   ]
  },
  {
   "cell_type": "markdown",
   "id": "410c0969-2938-4ce6-8b87-b9c47a5e1f40",
   "metadata": {},
   "source": [
    "For global optimisation algorithms we need to be able to propose new structures from the existing ones. The efficiency of global optimisation relies on the proposal of good candidate positions. For molecular systems this is an involved problem with a lot of research invested into it. For atomic clusters without a bonding framework to preserve we apply random perturbations to randomly-selected atoms. This class manages the perturbations to propose new states, it is given the max_displacement, and the most atoms that can be moved at once."
   ]
  },
  {
   "cell_type": "code",
   "execution_count": 97,
   "id": "13b5e17a-f822-4a33-b442-d8e67389130d",
   "metadata": {},
   "outputs": [],
   "source": [
    "from topsearch.global_optimisation.perturbations import AtomicPerturbation\n",
    "step_taking = AtomicPerturbation(max_displacement=0.5, # maximum displacement in the units of the coordinates\n",
    "                                 max_atoms=3) # maximum number of atoms that can be moved simultaneously"
   ]
  },
  {
   "cell_type": "markdown",
   "id": "055ba991-65ed-4b28-b4c8-b75770f6ec71",
   "metadata": {},
   "source": [
    "Initialise the global optimisation class. The global optimisation algorithm is basin-hopping, which is provided with the step-taking class previously created. Basin-hopping steps around the potential energy surface performing local minimisations and subsequently accepting or rejecting the new local minima based on a Metropolis-like criterion on the energy."
   ]
  },
  {
   "cell_type": "code",
   "execution_count": 98,
   "id": "c761bbc0-adcf-414a-b931-ccc02469730b",
   "metadata": {},
   "outputs": [],
   "source": [
    "from topsearch.global_optimisation.basin_hopping import BasinHopping\n",
    "optimiser = BasinHopping(ktn=ktn, # network to store the found minima\n",
    "                         potential=lj, # the potential energy function we are optimising on\n",
    "                         similarity=comparer, # object to test if minima are the same are not\n",
    "                         step_taking=step_taking) # object to propose new configurations"
   ]
  },
  {
   "cell_type": "markdown",
   "id": "536d3b42-d929-492d-b6d8-56faf7ba605b",
   "metadata": {},
   "source": [
    "Finally, we feed many of these objects into a NetworkSampling object that controls all the landscape generation. This object allows for simple calls to be made that perform the combination of algorithms for landscape generation. We pass it the global_optimiser and the transition state location methods. Transition state location searches are embarrassingly parallel so it is possible to parallelise this process by uncommenting the final two lines, but in this example it is unnecessary."
   ]
  },
  {
   "cell_type": "code",
   "execution_count": 99,
   "id": "0ae62e04-d97d-43e2-93b6-e6f51d9f0287",
   "metadata": {},
   "outputs": [],
   "source": [
    "from topsearch.sampling.exploration import NetworkSampling\n",
    "explorer = NetworkSampling(ktn=ktn,\n",
    "                           coords=coords,\n",
    "                           global_optimiser=optimiser,\n",
    "                           single_ended_search=hef,\n",
    "                           double_ended_search=neb,\n",
    "                           similarity=comparer)#,\n",
    "                           #multiprocessing_on=True,\n",
    "                           #n_processes=4)"
   ]
  },
  {
   "cell_type": "markdown",
   "id": "50d28603-fdf1-4aee-a369-fa0e3e8be398",
   "metadata": {},
   "source": [
    "## 1. Global optimisation\n",
    "\n",
    "First, we will locate local minima of the six-atom atomic cluster within the Lennard-Jones potential. Each local minimum is a stable atomic configuration (i.e. any displacement from this point will produce an increase in energy), and therefore, the set of minima are key in computing the thermodynamics of a system. We will use the basin-hopping algorithm (https://doi.org/10.1021/jp970984n) to locate all minima, as specified in the optimiser class. Basin-hopping is an efficient global optimisation algorithm, and we store all local minima that are located during the search. Global optimisation can be invoked using"
   ]
  },
  {
   "cell_type": "code",
   "execution_count": 100,
   "id": "05b01231-4c3e-45b1-93f6-d4261e4b59a3",
   "metadata": {},
   "outputs": [
    {
     "name": "stderr",
     "output_type": "stream",
     "text": [
      "/Users/lukedicks/topography-searcher/src/topsearch/potentials/atomic.py:40: RuntimeWarning: divide by zero encountered in scalar divide\n",
      "  r6_term = self.sigma/(dist**3)\n",
      "/Users/lukedicks/topography-searcher/src/topsearch/potentials/atomic.py:85: RuntimeWarning: invalid value encountered in scalar subtract\n",
      "  (r6_term - 2.0 * (r6_term**2))) / dist\n"
     ]
    }
   ],
   "source": [
    "explorer.get_minima(coords=coords, # the \n",
    "                    n_steps=150, # the number of basin-hopping steps\n",
    "                    conv_crit=1e-5, # the convergence criterion for local minimisation\n",
    "                    temperature=1.0, # sampling parameter that controls acceptance of new minima\n",
    "                    test_valid=True) # check the eigenspectrum to guarantee local minimum"
   ]
  },
  {
   "cell_type": "markdown",
   "id": "cefb7bf4-f95e-43b2-8f05-2628346a1633",
   "metadata": {},
   "source": [
    "We have now computed all local minima of the potential energy surface, which are stored in the ktn object. We validate that there are four distinct atomic configurations in this network and extract the coordinates of each minimum from it. We write the coordinates to file in the standard xyz format to store these configurations for later analysis."
   ]
  },
  {
   "cell_type": "code",
   "execution_count": 101,
   "id": "a1780df7-3143-4475-b7d9-efa9a82a9e2b",
   "metadata": {},
   "outputs": [
    {
     "name": "stdout",
     "output_type": "stream",
     "text": [
      "Potential energy surface contains 4 minima\n"
     ]
    }
   ],
   "source": [
    "for i in range(ktn.n_minima):\n",
    "    coords.position = ktn.get_minimum_coords(i)\n",
    "    coords.write_xyz('%i' %i)\n",
    "print(f\"Potential energy surface contains {ktn.n_minima} minima\")"
   ]
  },
  {
   "cell_type": "markdown",
   "id": "3ee56238",
   "metadata": {},
   "source": [
    "We can visualise these minima within the notebook by reading the xyz files back in. We show one as an example here, but the others can be visualised by changing the number when opening the file."
   ]
  },
  {
   "cell_type": "code",
   "execution_count": 102,
   "id": "bbd6447f",
   "metadata": {},
   "outputs": [
    {
     "data": {
      "application/3dmoljs_load.v0": "<div id=\"3dmolviewer_1718353708878129\"  style=\"position: relative; width: 400px; height: 400px;\">\n        <p id=\"3dmolwarning_1718353708878129\" style=\"background-color:#ffcccc;color:black\">3Dmol.js failed to load for some reason.  Please check your browser console for error messages.<br></p>\n        </div>\n<script>\n\nvar loadScriptAsync = function(uri){\n  return new Promise((resolve, reject) => {\n    //this is to ignore the existence of requirejs amd\n    var savedexports, savedmodule;\n    if (typeof exports !== 'undefined') savedexports = exports;\n    else exports = {}\n    if (typeof module !== 'undefined') savedmodule = module;\n    else module = {}\n\n    var tag = document.createElement('script');\n    tag.src = uri;\n    tag.async = true;\n    tag.onload = () => {\n        exports = savedexports;\n        module = savedmodule;\n        resolve();\n    };\n  var firstScriptTag = document.getElementsByTagName('script')[0];\n  firstScriptTag.parentNode.insertBefore(tag, firstScriptTag);\n});\n};\n\nif(typeof $3Dmolpromise === 'undefined') {\n$3Dmolpromise = null;\n  $3Dmolpromise = loadScriptAsync('https://cdnjs.cloudflare.com/ajax/libs/3Dmol/2.1.0/3Dmol-min.js');\n}\n\nvar viewer_1718353708878129 = null;\nvar warn = document.getElementById(\"3dmolwarning_1718353708878129\");\nif(warn) {\n    warn.parentNode.removeChild(warn);\n}\n$3Dmolpromise.then(function() {\nviewer_1718353708878129 = $3Dmol.createViewer(document.getElementById(\"3dmolviewer_1718353708878129\"),{backgroundColor:\"white\"});\nviewer_1718353708878129.zoomTo();\n\tviewer_1718353708878129.addModel(\"7\\nmolecule\\nC -0.41047777991143364 -0.5903811892605768 -0.16390744346373234\\nC 0.5253779207001613 -0.2987573994356142 -0.6977972985341031\\nC 0.3532682898833447 0.06474860641090857 0.34438358134269537\\nC -0.2734899513194949 0.4650208195929531 -0.5028583073822379\\nC -0.7367037769344912 0.2600245683804737 0.49178652390481004\\nC -0.2602363873821158 -0.6509172949557603 0.9408710735391409\\nC 0.8022616849640295 0.7502618892676158 -0.41247812940657286\\n\");\nviewer_1718353708878129.render();\n});\n</script>",
      "text/html": [
       "<div id=\"3dmolviewer_1718353708878129\"  style=\"position: relative; width: 400px; height: 400px;\">\n",
       "        <p id=\"3dmolwarning_1718353708878129\" style=\"background-color:#ffcccc;color:black\">3Dmol.js failed to load for some reason.  Please check your browser console for error messages.<br></p>\n",
       "        </div>\n",
       "<script>\n",
       "\n",
       "var loadScriptAsync = function(uri){\n",
       "  return new Promise((resolve, reject) => {\n",
       "    //this is to ignore the existence of requirejs amd\n",
       "    var savedexports, savedmodule;\n",
       "    if (typeof exports !== 'undefined') savedexports = exports;\n",
       "    else exports = {}\n",
       "    if (typeof module !== 'undefined') savedmodule = module;\n",
       "    else module = {}\n",
       "\n",
       "    var tag = document.createElement('script');\n",
       "    tag.src = uri;\n",
       "    tag.async = true;\n",
       "    tag.onload = () => {\n",
       "        exports = savedexports;\n",
       "        module = savedmodule;\n",
       "        resolve();\n",
       "    };\n",
       "  var firstScriptTag = document.getElementsByTagName('script')[0];\n",
       "  firstScriptTag.parentNode.insertBefore(tag, firstScriptTag);\n",
       "});\n",
       "};\n",
       "\n",
       "if(typeof $3Dmolpromise === 'undefined') {\n",
       "$3Dmolpromise = null;\n",
       "  $3Dmolpromise = loadScriptAsync('https://cdnjs.cloudflare.com/ajax/libs/3Dmol/2.1.0/3Dmol-min.js');\n",
       "}\n",
       "\n",
       "var viewer_1718353708878129 = null;\n",
       "var warn = document.getElementById(\"3dmolwarning_1718353708878129\");\n",
       "if(warn) {\n",
       "    warn.parentNode.removeChild(warn);\n",
       "}\n",
       "$3Dmolpromise.then(function() {\n",
       "viewer_1718353708878129 = $3Dmol.createViewer(document.getElementById(\"3dmolviewer_1718353708878129\"),{backgroundColor:\"white\"});\n",
       "viewer_1718353708878129.zoomTo();\n",
       "\tviewer_1718353708878129.addModel(\"7\\nmolecule\\nC -0.41047777991143364 -0.5903811892605768 -0.16390744346373234\\nC 0.5253779207001613 -0.2987573994356142 -0.6977972985341031\\nC 0.3532682898833447 0.06474860641090857 0.34438358134269537\\nC -0.2734899513194949 0.4650208195929531 -0.5028583073822379\\nC -0.7367037769344912 0.2600245683804737 0.49178652390481004\\nC -0.2602363873821158 -0.6509172949557603 0.9408710735391409\\nC 0.8022616849640295 0.7502618892676158 -0.41247812940657286\\n\");\n",
       "viewer_1718353708878129.render();\n",
       "});\n",
       "</script>"
      ]
     },
     "metadata": {},
     "output_type": "display_data"
    },
    {
     "data": {
      "text/plain": [
       "<py3Dmol.view at 0x16fe97a90>"
      ]
     },
     "execution_count": 102,
     "metadata": {},
     "output_type": "execute_result"
    }
   ],
   "source": [
    "import py3Dmol\n",
    "xyzview = py3Dmol.view(width=400, height=400)\n",
    "with open('coords1.xyz') as xyz_file:\n",
    "    minimum = \"\".join([x for x in xyz_file])\n",
    "xyzview.addModel(minimum)"
   ]
  },
  {
   "cell_type": "markdown",
   "id": "843e4fe2",
   "metadata": {},
   "source": [
    "Here, the atomic configurations are displayed as a polygon. Each atom is a node of the polygon and lines connect those atoms that are close enough to be considered linked by a bond. For atomic clusters such polygons allow the atomic structure to be more easily identified."
   ]
  },
  {
   "cell_type": "markdown",
   "id": "769e5b00-1f58-4b34-b81e-11b408f4817c",
   "metadata": {},
   "source": [
    "## 2. Find transition states\n",
    "\n",
    "Having successfully located the local minima we will aim to locate the transition states between them. These transition states are the maxima on the minimum energy paths between minima, and for potential energy surfaces these give the lowest energy barrier between two local minima. From the transition states we can estimate the evolution of a physical system over time (paper). We find transition states by selecting pairs of local minima and using the double and single-ended transition state searches between them. These searches work better when the local minima are adjacent on the potential energy surface and we use the 'ClosestEnumeration' scheme to select pairs of minima that are close in space. We attempt to find transition states between each minimum and its `cycles` nearest neighbours in the network."
   ]
  },
  {
   "cell_type": "code",
   "execution_count": 103,
   "id": "19fbcd80-6695-4c6e-9ab8-bbad891ac9ab",
   "metadata": {},
   "outputs": [],
   "source": [
    "explorer.get_transition_states(method='ClosestEnumeration', # try and find transition states between each minimum and its closest neighbours\n",
    "                               cycles=4) # take the four nearest neighbours"
   ]
  },
  {
   "cell_type": "markdown",
   "id": "c9b15e8c-2a32-4a28-849f-b597ceeb542c",
   "metadata": {},
   "source": [
    "There are only four minima so finding the transition states doesn't take long. We should have located three transition states, which ensures that all four minima are connected. Again we can extract the coordinate information from the network that now contains both minima and transition states to write the transition state configurations to file. The transition states are edges in the network graph, and we extract their properties by referencing the two minima that they connect."
   ]
  },
  {
   "cell_type": "code",
   "execution_count": 104,
   "id": "e04d2e14-35da-419f-a710-4ce53474c658",
   "metadata": {},
   "outputs": [
    {
     "name": "stdout",
     "output_type": "stream",
     "text": [
      "Network contains 3 transition states\n",
      "Transition state connecting  0 3 {'coords': array([-0.02014553, -0.73124864, -0.07810751,  0.30297859, -0.10982157,\n",
      "       -0.96448493,  0.82797796, -0.01967659,  0.00568251, -0.45644138,\n",
      "        0.27782713, -0.26240975, -0.96815617, -0.42977471,  0.43307446,\n",
      "       -0.00698547,  0.056892  ,  0.73344782,  0.320772  ,  0.95580238,\n",
      "        0.1327974 ]), 'energy': -15.319864440861322}\n",
      "Transition state connecting  1 3 {'coords': array([-0.51065845, -0.64228186, -0.21504404,  0.52556774, -0.41882722,\n",
      "       -0.52735978,  0.358679  ,  0.1752757 ,  0.39189839, -0.26127702,\n",
      "        0.39862701, -0.50755944, -0.74683664,  0.18682381,  0.48774947,\n",
      "       -0.14166671, -0.70960595,  0.82556147,  0.82524191,  0.66033351,\n",
      "       -0.50007522]), 'energy': -15.283421275355519}\n",
      "Transition state connecting  2 3 {'coords': array([ 0.17188117, -0.97635663,  0.47993508, -0.69772734,  0.49091336,\n",
      "       -0.409875  ,  0.74648399, -0.03721487,  0.32511668, -0.39859636,\n",
      "       -0.5920728 , -0.39356691,  0.18284556,  0.91760206,  0.14279655,\n",
      "        0.33844269,  0.17940694, -0.67775227, -0.34332971,  0.01772194,\n",
      "        0.53334587]), 'energy': -15.444733799822448}\n"
     ]
    }
   ],
   "source": [
    "print(f'Network contains {ktn.n_ts} transition states')\n",
    "for u, v in ktn.G.edges:\n",
    "    coords.position = ktn.get_ts_coords(u, v)\n",
    "    coords.write_xyz('%i_%i' %(u, v))\n",
    "    print(\"Transition state connecting \", u, v, ktn.G.get_edge_data(u, v))"
   ]
  },
  {
   "cell_type": "markdown",
   "id": "65be11d4-8dba-44f6-b8b3-5bee88325b9d",
   "metadata": {},
   "source": [
    "We can write this network to file to store for later analysis. The network is stored within five files: min.data, min.coords, ts.data, ts.coords and pairlist.txt. The format of each is a text file containing  follows, where each line in min/ts.data corresponds to the same line in min/ts.coords\n",
    "\n",
    "- min.data:   index potential_energy\n",
    "- min.coords: atomic_coordinates\n",
    "- ts.data:    connected_min1 connected_min2 potential_energy\n",
    "- ts.coords:  atomic_coordinates\n",
    "- pairlist:   the pairs of minima we have attempted transition states between"
   ]
  },
  {
   "cell_type": "code",
   "execution_count": 105,
   "id": "6789d55b-deed-4fcc-aa12-56a2523ed860",
   "metadata": {},
   "outputs": [],
   "source": [
    "ktn.dump_network()"
   ]
  },
  {
   "cell_type": "markdown",
   "id": "c5343eeb",
   "metadata": {},
   "source": [
    "Again, we can visualise the structures of the transition states as polygons. We visualise just the first here, but the other can be seen by changing the ts_index parameter."
   ]
  },
  {
   "cell_type": "code",
   "execution_count": 106,
   "id": "f88ad249",
   "metadata": {},
   "outputs": [
    {
     "data": {
      "application/3dmoljs_load.v0": "<div id=\"3dmolviewer_1718353714854531\"  style=\"position: relative; width: 400px; height: 400px;\">\n        <p id=\"3dmolwarning_1718353714854531\" style=\"background-color:#ffcccc;color:black\">3Dmol.js failed to load for some reason.  Please check your browser console for error messages.<br></p>\n        </div>\n<script>\n\nvar loadScriptAsync = function(uri){\n  return new Promise((resolve, reject) => {\n    //this is to ignore the existence of requirejs amd\n    var savedexports, savedmodule;\n    if (typeof exports !== 'undefined') savedexports = exports;\n    else exports = {}\n    if (typeof module !== 'undefined') savedmodule = module;\n    else module = {}\n\n    var tag = document.createElement('script');\n    tag.src = uri;\n    tag.async = true;\n    tag.onload = () => {\n        exports = savedexports;\n        module = savedmodule;\n        resolve();\n    };\n  var firstScriptTag = document.getElementsByTagName('script')[0];\n  firstScriptTag.parentNode.insertBefore(tag, firstScriptTag);\n});\n};\n\nif(typeof $3Dmolpromise === 'undefined') {\n$3Dmolpromise = null;\n  $3Dmolpromise = loadScriptAsync('https://cdnjs.cloudflare.com/ajax/libs/3Dmol/2.1.0/3Dmol-min.js');\n}\n\nvar viewer_1718353714854531 = null;\nvar warn = document.getElementById(\"3dmolwarning_1718353714854531\");\nif(warn) {\n    warn.parentNode.removeChild(warn);\n}\n$3Dmolpromise.then(function() {\nviewer_1718353714854531 = $3Dmol.createViewer(document.getElementById(\"3dmolviewer_1718353714854531\"),{backgroundColor:\"white\"});\nviewer_1718353714854531.zoomTo();\n\tviewer_1718353714854531.addModel(\"7\\nmolecule\\nC -0.02014553153683794 -0.7312486358250092 -0.07810751163511577\\nC 0.30297858771450165 -0.10982156580520912 -0.9644849307902184\\nC 0.8279779614499841 -0.01967659139548554 0.005682512391250773\\nC -0.4564413763901628 0.27782712572776214 -0.26240974756361496\\nC -0.9681561668334163 -0.42977471075158613 0.43307446127943516\\nC -0.006985474750292534 0.0568919976850355 0.7334478156490482\\nC 0.3207720003462237 0.9558023803644925 0.13279740066921492\\n\");\nviewer_1718353714854531.render();\n});\n</script>",
      "text/html": [
       "<div id=\"3dmolviewer_1718353714854531\"  style=\"position: relative; width: 400px; height: 400px;\">\n",
       "        <p id=\"3dmolwarning_1718353714854531\" style=\"background-color:#ffcccc;color:black\">3Dmol.js failed to load for some reason.  Please check your browser console for error messages.<br></p>\n",
       "        </div>\n",
       "<script>\n",
       "\n",
       "var loadScriptAsync = function(uri){\n",
       "  return new Promise((resolve, reject) => {\n",
       "    //this is to ignore the existence of requirejs amd\n",
       "    var savedexports, savedmodule;\n",
       "    if (typeof exports !== 'undefined') savedexports = exports;\n",
       "    else exports = {}\n",
       "    if (typeof module !== 'undefined') savedmodule = module;\n",
       "    else module = {}\n",
       "\n",
       "    var tag = document.createElement('script');\n",
       "    tag.src = uri;\n",
       "    tag.async = true;\n",
       "    tag.onload = () => {\n",
       "        exports = savedexports;\n",
       "        module = savedmodule;\n",
       "        resolve();\n",
       "    };\n",
       "  var firstScriptTag = document.getElementsByTagName('script')[0];\n",
       "  firstScriptTag.parentNode.insertBefore(tag, firstScriptTag);\n",
       "});\n",
       "};\n",
       "\n",
       "if(typeof $3Dmolpromise === 'undefined') {\n",
       "$3Dmolpromise = null;\n",
       "  $3Dmolpromise = loadScriptAsync('https://cdnjs.cloudflare.com/ajax/libs/3Dmol/2.1.0/3Dmol-min.js');\n",
       "}\n",
       "\n",
       "var viewer_1718353714854531 = null;\n",
       "var warn = document.getElementById(\"3dmolwarning_1718353714854531\");\n",
       "if(warn) {\n",
       "    warn.parentNode.removeChild(warn);\n",
       "}\n",
       "$3Dmolpromise.then(function() {\n",
       "viewer_1718353714854531 = $3Dmol.createViewer(document.getElementById(\"3dmolviewer_1718353714854531\"),{backgroundColor:\"white\"});\n",
       "viewer_1718353714854531.zoomTo();\n",
       "\tviewer_1718353714854531.addModel(\"7\\nmolecule\\nC -0.02014553153683794 -0.7312486358250092 -0.07810751163511577\\nC 0.30297858771450165 -0.10982156580520912 -0.9644849307902184\\nC 0.8279779614499841 -0.01967659139548554 0.005682512391250773\\nC -0.4564413763901628 0.27782712572776214 -0.26240974756361496\\nC -0.9681561668334163 -0.42977471075158613 0.43307446127943516\\nC -0.006985474750292534 0.0568919976850355 0.7334478156490482\\nC 0.3207720003462237 0.9558023803644925 0.13279740066921492\\n\");\n",
       "viewer_1718353714854531.render();\n",
       "});\n",
       "</script>"
      ]
     },
     "metadata": {},
     "output_type": "display_data"
    },
    {
     "data": {
      "text/plain": [
       "<py3Dmol.view at 0x30c4877c0>"
      ]
     },
     "execution_count": 106,
     "metadata": {},
     "output_type": "execute_result"
    }
   ],
   "source": [
    "import py3Dmol\n",
    "transition_states = []\n",
    "# Get all the transition state connections\n",
    "for u, v in ktn.G.edges():\n",
    "    transition_states.append([u, v])\n",
    "xyzview = py3Dmol.view(width=400, height=400)\n",
    "# Specify the transition state we want\n",
    "ts_index = 0\n",
    "# Find its two connected minima\n",
    "minimum1 = transition_states[ts_index][0]\n",
    "minimum2 = transition_states[ts_index][1]\n",
    "# Read the corresponding xyz file we wrote earlier\n",
    "with open('coords%i_%i.xyz' %(minimum1, minimum2)) as xyz_file:\n",
    "    ts = \"\".join([x for x in xyz_file])\n",
    "xyzview.addModel(ts)"
   ]
  },
  {
   "cell_type": "markdown",
   "id": "8c483c03",
   "metadata": {},
   "source": [
    "We cannot directly visualise the potential energy surface in this example, as the surface has (3*6)+1 dimensions. We have visualised the coordinates for each of the stationary points (the minima and the transition states), but we can further probe the structure of the potential energy surface using disconnectivity graphs (https://doi.org/10.1038/29487). Disconnectivity graphs can be used for surfaces of any dimensionality. They display the minima and the barriers (via transition states) needed to move between them, which are the relevant quantities for understanding the overall kinetic behaviour of a system. Each vertical line is a local minimum which ends at its corresponding energy. The lines merge at the energy at which the two minima become intercovertible, which is the energy of the maximum transition state on a path between them. Here we see the four minima, and the transition between the two lowest minima occurs at an energy of around -15.50."
   ]
  },
  {
   "cell_type": "code",
   "execution_count": 107,
   "id": "1cfaa11a",
   "metadata": {},
   "outputs": [],
   "source": [
    "# Ensure that LaTeX fonts and equations can be used for plotting\n",
    "import matplotlib as mpl\n",
    "mpl.rcParams.update(mpl.rcParamsDefault)"
   ]
  },
  {
   "cell_type": "code",
   "execution_count": 108,
   "id": "00a30e53",
   "metadata": {},
   "outputs": [
    {
     "data": {
      "image/png": "[encoded data removed]",
      "text/plain": [
       "<IPython.core.display.Image object>"
      ]
     },
     "execution_count": 108,
     "metadata": {},
     "output_type": "execute_result"
    }
   ],
   "source": [
    "from IPython.display import Image\n",
    "from topsearch.plotting.disconnectivity import plot_disconnectivity_graph\n",
    "import matplotlib as mpl\n",
    "from matplotlib import rc\n",
    "mpl.rcParams.update(mpl.rcParamsDefault)\n",
    "mpl.rcParams.update({'font.size': 16})\n",
    "# If LaTeX is not installed then comment out the following two lines to run successfully\n",
    "rc('font', **{'family': 'serif', 'serif': ['Computer Modern']})\n",
    "rc('text', usetex=True)\n",
    "plot_disconnectivity_graph(ktn=ktn,\n",
    "                           levels=100)\n",
    "Image(filename='DisconnectivityGraph.png')"
   ]
  }
 ],
 "metadata": {
  "kernelspec": {
   "display_name": "Python 3 (ipykernel)",
   "language": "python",
   "name": "python3"
  },
  "language_info": {
   "codemirror_mode": {
    "name": "ipython",
    "version": 3
   },
   "file_extension": ".py",
   "mimetype": "text/x-python",
   "name": "python",
   "nbconvert_exporter": "python",
   "pygments_lexer": "ipython3",
   "version": "3.10.13"
  }
 },
 "nbformat": 4,
 "nbformat_minor": 5
}
